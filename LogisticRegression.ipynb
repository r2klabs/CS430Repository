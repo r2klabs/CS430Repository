{
  "nbformat": 4,
  "nbformat_minor": 0,
  "metadata": {
    "colab": {
      "name": "LogisticRegression",
      "provenance": [],
      "authorship_tag": "ABX9TyMTk18SZ9sVWenqhlIldccA",
      "include_colab_link": true
    },
    "kernelspec": {
      "name": "python3",
      "display_name": "Python 3"
    },
    "language_info": {
      "name": "python"
    }
  },
  "cells": [
    {
      "cell_type": "markdown",
      "metadata": {
        "id": "view-in-github",
        "colab_type": "text"
      },
      "source": [
        "<a href=\"https://colab.research.google.com/github/r2klabs/CS430Repository/blob/main/LogisticRegression.ipynb\" target=\"_parent\"><img src=\"https://colab.research.google.com/assets/colab-badge.svg\" alt=\"Open In Colab\"/></a>"
      ]
    },
    {
      "cell_type": "markdown",
      "source": [
        "# Logistic Regression\n",
        "This notebook was developed to demonstrate the fundamental concepts of Logistic Regression using SKLearn."
      ],
      "metadata": {
        "id": "0oFsMRpoq5jx"
      }
    },
    {
      "cell_type": "markdown",
      "source": [
        "## Importing libraries\n",
        "These are the standard libraries will will always import into our notebooks."
      ],
      "metadata": {
        "id": "4ITeJ0koaCPd"
      }
    },
    {
      "cell_type": "code",
      "execution_count": 8,
      "metadata": {
        "id": "8Wwj0S_wZq2B"
      },
      "outputs": [],
      "source": [
        "import pandas as pd\n",
        "import numpy as np\n",
        "import matplotlib.pyplot as plt\n",
        "import seaborn as sns\n",
        "%matplotlib inline"
      ]
    },
    {
      "cell_type": "markdown",
      "source": [
        "These imports are specific to performing Logistic Regression using SKLearn"
      ],
      "metadata": {
        "id": "m7cRUxPnt9vF"
      }
    },
    {
      "cell_type": "code",
      "source": [
        "from sklearn.linear_model import LogisticRegression"
      ],
      "metadata": {
        "id": "W89Cl7SOt84f"
      },
      "execution_count": 9,
      "outputs": []
    },
    {
      "cell_type": "markdown",
      "source": [
        "These imports are for building the transformers, the pipeline, and splitting the data."
      ],
      "metadata": {
        "id": "TQN2nlqqqNQj"
      }
    },
    {
      "cell_type": "code",
      "source": [
        "from sklearn.pipeline import Pipeline\n",
        "from sklearn.compose import ColumnTransformer\n",
        "from sklearn.preprocessing import MinMaxScaler\n",
        "from sklearn.preprocessing import OneHotEncoder\n",
        "\n",
        "from sklearn.model_selection import train_test_split"
      ],
      "metadata": {
        "id": "RPkp1dlKqLOT"
      },
      "execution_count": 20,
      "outputs": []
    },
    {
      "cell_type": "markdown",
      "source": [
        "These imports are for various performance measures to evaluate our model."
      ],
      "metadata": {
        "id": "JW9kgAGwpww3"
      }
    },
    {
      "cell_type": "code",
      "source": [
        "from sklearn.metrics import confusion_matrix\n",
        "from sklearn.metrics import precision_score, recall_score, f1_score\n",
        "from sklearn.metrics import roc_curve\n",
        "from sklearn.metrics import roc_auc_score"
      ],
      "metadata": {
        "id": "N4WwSQlNpw7c"
      },
      "execution_count": 52,
      "outputs": []
    },
    {
      "cell_type": "markdown",
      "source": [
        "This function is used to plot the confusion matrix."
      ],
      "metadata": {
        "id": "pWcDpHz0qF_J"
      }
    },
    {
      "cell_type": "code",
      "source": [
        "def plot_cm(y_test, y_pred):\n",
        "    cm = confusion_matrix(y_test,y_pred)\n",
        "    fig = plt.figure(figsize=(10,10))\n",
        "    heatmap = sns.heatmap(cm, annot=True, fmt='.2f', cmap='RdYlGn')\n",
        "    plt.ylabel('True label')\n",
        "    plt.xlabel('Predicted Label')"
      ],
      "metadata": {
        "id": "UyWroVXvp2ZD"
      },
      "execution_count": 22,
      "outputs": []
    },
    {
      "cell_type": "markdown",
      "source": [
        "This function is for plotting the roc_curve"
      ],
      "metadata": {
        "id": "fYHTxcJYqGcP"
      }
    },
    {
      "cell_type": "code",
      "source": [
        "def plot_roc_curve(fpr,tpr):\n",
        "  plt.plot(fpr, tpr, linewidth=2)\n",
        "  plt.plot([0,1],[0,1], 'k--')\n",
        "  plt.xlim([0.0, 1.0])\n",
        "  plt.ylim([0.0, 1.0])"
      ],
      "metadata": {
        "id": "DSTtrdx0qFAU"
      },
      "execution_count": 23,
      "outputs": []
    },
    {
      "cell_type": "markdown",
      "source": [
        "## Connect to Google Drive"
      ],
      "metadata": {
        "id": "Xi8gW8QXbDR0"
      }
    },
    {
      "cell_type": "code",
      "source": [
        "from google.colab import drive\n",
        "drive.mount('/content/gdrive')"
      ],
      "metadata": {
        "colab": {
          "base_uri": "https://localhost:8080/"
        },
        "id": "pMdPOeIcaPD5",
        "outputId": "cd1ad548-e451-451d-b91e-ab7222589ba9"
      },
      "execution_count": 14,
      "outputs": [
        {
          "output_type": "stream",
          "name": "stdout",
          "text": [
            "Mounted at /content/gdrive\n"
          ]
        }
      ]
    },
    {
      "cell_type": "markdown",
      "source": [
        "## Preparing the data set for an ML algorithm\n",
        "The Penguin Data Set doesn't have many of the problems of a typical data set because it has already been cleaned and maintained.  Therefore, we are going to use a different data set from the UCI Machine Learning repository called the **Bank Marketing**. \n",
        "\n",
        "https://archive-beta.ics.uci.edu/ml/datasets/bank+marketing\n",
        "\n",
        "This data set has a combination of categorical and numerical attributes that will allow us to perform some transformations.  Here is a summary of the data set from the UCI website.\n",
        "\n",
        "### bank client data:\n",
        "   1 - age (numeric)  \n",
        "   2 - job : type of job (categorical: \"admin.\",\"unknown\",\"unemployed\",\"management\",\"housemaid\",\"entrepreneur\",\"student\",\"blue-collar\",\"self-employed\",\"retired\",\"technician\",\"services\")   \n",
        "   3 - marital : marital status (categorical: \"married\",\"divorced\",\"single\"; note: \"divorced\" means divorced or widowed)  \n",
        "   4 - education (categorical: \"unknown\",\"secondary\",\"primary\",\"tertiary\")  \n",
        "   5 - default: has credit in default? (binary: \"yes\",\"no\")  \n",
        "   6 - balance: average yearly balance, in euros (numeric)   \n",
        "   7 - housing: has housing loan? (binary: \"yes\",\"no\")  \n",
        "   8 - loan: has personal loan? (binary: \"yes\",\"no\")  \n",
        "### Related with the last contact of the current campaign:\n",
        "   9 - contact: contact communication type (categorical: \"unknown\",\"telephone\",\"cellular\")   \n",
        "  10 - day: last contact day of the month (numeric)  \n",
        "  11 - month: last contact month of year (categorical: \"jan\", \"feb\", \"mar\", ..., \"nov\", \"dec\")   \n",
        "  12 - duration: last contact duration, in seconds (numeric)\n",
        "### Other attributes:\n",
        "  13 - campaign: number of contacts performed during this campaign and for this client (numeric, includes last contact)  \n",
        "  14 - pdays: number of days that passed by after the client was last contacted from a previous campaign (numeric, -1 means client was not previously contacted)  \n",
        "  15 - previous: number of contacts performed before this campaign and for this client (numeric)  \n",
        "  16 - poutcome: outcome of the previous marketing campaign (categorical: \"unknown\",\"other\",\"failure\",\"success\")  \n",
        "\n",
        "### Output variable (desired target):\n",
        "**17 - y - has the client subscribed a term deposit? (binary: \"yes\",\"no\")**      "
      ],
      "metadata": {
        "id": "FHp_Ewy-zkDF"
      }
    },
    {
      "cell_type": "markdown",
      "source": [
        "## Reading the data set"
      ],
      "metadata": {
        "id": "7-3g3CHZqmwz"
      }
    },
    {
      "cell_type": "code",
      "source": [
        "#Using the separator parameter because this data is separated by semicolons\n",
        "df = pd.read_csv('/content/gdrive/MyDrive/CS430/bank-full.csv', sep=';')  "
      ],
      "metadata": {
        "id": "k6RBhsmGqlus"
      },
      "execution_count": 24,
      "outputs": []
    },
    {
      "cell_type": "markdown",
      "source": [
        "I don't like the name of the outcome column and the encoding is in words, I want to set to 1 (positive class) or 0 (negative class)."
      ],
      "metadata": {
        "id": "jzPggOtiKKnu"
      }
    },
    {
      "cell_type": "code",
      "source": [
        "df.rename(columns={\"y\": \"outcome\"}, inplace=True)"
      ],
      "metadata": {
        "id": "jjyn7pCSKB_v"
      },
      "execution_count": 25,
      "outputs": []
    },
    {
      "cell_type": "code",
      "source": [
        "df['outcome'] = df['outcome'].apply(lambda x: 1 if x == \"yes\" else 0)  #If the value in the row is yes, recode to 1, otherwise recode to 0."
      ],
      "metadata": {
        "id": "DUZ4NIHjJ4fC"
      },
      "execution_count": 26,
      "outputs": []
    },
    {
      "cell_type": "code",
      "source": [
        "df.outcome.groupby(df.outcome).count()"
      ],
      "metadata": {
        "colab": {
          "base_uri": "https://localhost:8080/"
        },
        "id": "2mxa2BfEKiAQ",
        "outputId": "8a92647e-aed5-4a83-cf53-1d41c60ecebc"
      },
      "execution_count": 27,
      "outputs": [
        {
          "output_type": "execute_result",
          "data": {
            "text/plain": [
              "outcome\n",
              "0    39922\n",
              "1     5289\n",
              "Name: outcome, dtype: int64"
            ]
          },
          "metadata": {},
          "execution_count": 27
        }
      ]
    },
    {
      "cell_type": "code",
      "source": [
        "X = df.iloc[:,0:-1]\n",
        "y = df[['outcome']]\n",
        "X_train, X_test, y_train, y_test = train_test_split(X,y, test_size=.20, random_state=32)"
      ],
      "metadata": {
        "id": "1Y3JJ96uqwLB"
      },
      "execution_count": 28,
      "outputs": []
    },
    {
      "cell_type": "markdown",
      "source": [
        "## Transforming the Columns\n",
        "\n",
        "Let's transform the columns using the MinMaxScaler and the OneHotEncoder."
      ],
      "metadata": {
        "id": "6Pk09DUFTRyh"
      }
    },
    {
      "cell_type": "markdown",
      "source": [
        "Determine which attributes are numerical versus for categorical for the pipeline."
      ],
      "metadata": {
        "id": "_zEeO2XMeDiG"
      }
    },
    {
      "cell_type": "code",
      "source": [
        "num_attribs = ['age','balance','day','duration','campaign','pdays','previous']\n",
        "cat_attribs = ['job','marital','education','default','housing','loan','contact','month','poutcome']"
      ],
      "metadata": {
        "id": "FMWyt3GDNg-D"
      },
      "execution_count": 30,
      "outputs": []
    },
    {
      "cell_type": "markdown",
      "source": [
        "Set up a transformer to apply to train and test."
      ],
      "metadata": {
        "id": "5PBHh56ReSnQ"
      }
    },
    {
      "cell_type": "code",
      "source": [
        "col_transform = ColumnTransformer(transformers=[\n",
        "                               ('cat',OneHotEncoder(), cat_attribs),\n",
        "                               ('num',MinMaxScaler(), num_attribs),]\n",
        "                  )\n"
      ],
      "metadata": {
        "id": "sBKEwFvOYQOY"
      },
      "execution_count": 31,
      "outputs": []
    },
    {
      "cell_type": "code",
      "source": [
        "pipeline = Pipeline([\n",
        "                     ('trans', col_transform),\n",
        "                     ('mlr', LogisticRegression(max_iter=1000)),\n",
        "                     ])"
      ],
      "metadata": {
        "id": "3nBKH76srlbi"
      },
      "execution_count": 37,
      "outputs": []
    },
    {
      "cell_type": "code",
      "source": [
        "from sklearn import set_config\n",
        "set_config(display='diagram')"
      ],
      "metadata": {
        "id": "hCkiayWqrwG5"
      },
      "execution_count": 38,
      "outputs": []
    },
    {
      "cell_type": "markdown",
      "source": [
        "## Running the Logistic Regression Model"
      ],
      "metadata": {
        "id": "UvvUbVpzsU7s"
      }
    },
    {
      "cell_type": "code",
      "source": [
        "pipeline.fit(X_train, np.ravel(y_train))"
      ],
      "metadata": {
        "colab": {
          "base_uri": "https://localhost:8080/",
          "height": 189
        },
        "id": "CI15CfXDr04h",
        "outputId": "82a9977d-9d14-4ec4-a213-0328dc4cf54a"
      },
      "execution_count": 39,
      "outputs": [
        {
          "output_type": "execute_result",
          "data": {
            "text/plain": [
              "Pipeline(steps=[('trans',\n",
              "                 ColumnTransformer(transformers=[('cat', OneHotEncoder(),\n",
              "                                                  ['job', 'marital',\n",
              "                                                   'education', 'default',\n",
              "                                                   'housing', 'loan', 'contact',\n",
              "                                                   'month', 'poutcome']),\n",
              "                                                 ('num', MinMaxScaler(),\n",
              "                                                  ['age', 'balance', 'day',\n",
              "                                                   'duration', 'campaign',\n",
              "                                                   'pdays', 'previous'])])),\n",
              "                ('mlr', LogisticRegression(max_iter=1000))])"
            ],
            "text/html": [
              "<style>#sk-50edab94-8d31-44be-b1e5-659e2cbbc69c {color: black;background-color: white;}#sk-50edab94-8d31-44be-b1e5-659e2cbbc69c pre{padding: 0;}#sk-50edab94-8d31-44be-b1e5-659e2cbbc69c div.sk-toggleable {background-color: white;}#sk-50edab94-8d31-44be-b1e5-659e2cbbc69c label.sk-toggleable__label {cursor: pointer;display: block;width: 100%;margin-bottom: 0;padding: 0.3em;box-sizing: border-box;text-align: center;}#sk-50edab94-8d31-44be-b1e5-659e2cbbc69c label.sk-toggleable__label-arrow:before {content: \"▸\";float: left;margin-right: 0.25em;color: #696969;}#sk-50edab94-8d31-44be-b1e5-659e2cbbc69c label.sk-toggleable__label-arrow:hover:before {color: black;}#sk-50edab94-8d31-44be-b1e5-659e2cbbc69c div.sk-estimator:hover label.sk-toggleable__label-arrow:before {color: black;}#sk-50edab94-8d31-44be-b1e5-659e2cbbc69c div.sk-toggleable__content {max-height: 0;max-width: 0;overflow: hidden;text-align: left;background-color: #f0f8ff;}#sk-50edab94-8d31-44be-b1e5-659e2cbbc69c div.sk-toggleable__content pre {margin: 0.2em;color: black;border-radius: 0.25em;background-color: #f0f8ff;}#sk-50edab94-8d31-44be-b1e5-659e2cbbc69c input.sk-toggleable__control:checked~div.sk-toggleable__content {max-height: 200px;max-width: 100%;overflow: auto;}#sk-50edab94-8d31-44be-b1e5-659e2cbbc69c input.sk-toggleable__control:checked~label.sk-toggleable__label-arrow:before {content: \"▾\";}#sk-50edab94-8d31-44be-b1e5-659e2cbbc69c div.sk-estimator input.sk-toggleable__control:checked~label.sk-toggleable__label {background-color: #d4ebff;}#sk-50edab94-8d31-44be-b1e5-659e2cbbc69c div.sk-label input.sk-toggleable__control:checked~label.sk-toggleable__label {background-color: #d4ebff;}#sk-50edab94-8d31-44be-b1e5-659e2cbbc69c input.sk-hidden--visually {border: 0;clip: rect(1px 1px 1px 1px);clip: rect(1px, 1px, 1px, 1px);height: 1px;margin: -1px;overflow: hidden;padding: 0;position: absolute;width: 1px;}#sk-50edab94-8d31-44be-b1e5-659e2cbbc69c div.sk-estimator {font-family: monospace;background-color: #f0f8ff;border: 1px dotted black;border-radius: 0.25em;box-sizing: border-box;margin-bottom: 0.5em;}#sk-50edab94-8d31-44be-b1e5-659e2cbbc69c div.sk-estimator:hover {background-color: #d4ebff;}#sk-50edab94-8d31-44be-b1e5-659e2cbbc69c div.sk-parallel-item::after {content: \"\";width: 100%;border-bottom: 1px solid gray;flex-grow: 1;}#sk-50edab94-8d31-44be-b1e5-659e2cbbc69c div.sk-label:hover label.sk-toggleable__label {background-color: #d4ebff;}#sk-50edab94-8d31-44be-b1e5-659e2cbbc69c div.sk-serial::before {content: \"\";position: absolute;border-left: 1px solid gray;box-sizing: border-box;top: 2em;bottom: 0;left: 50%;}#sk-50edab94-8d31-44be-b1e5-659e2cbbc69c div.sk-serial {display: flex;flex-direction: column;align-items: center;background-color: white;padding-right: 0.2em;padding-left: 0.2em;}#sk-50edab94-8d31-44be-b1e5-659e2cbbc69c div.sk-item {z-index: 1;}#sk-50edab94-8d31-44be-b1e5-659e2cbbc69c div.sk-parallel {display: flex;align-items: stretch;justify-content: center;background-color: white;}#sk-50edab94-8d31-44be-b1e5-659e2cbbc69c div.sk-parallel::before {content: \"\";position: absolute;border-left: 1px solid gray;box-sizing: border-box;top: 2em;bottom: 0;left: 50%;}#sk-50edab94-8d31-44be-b1e5-659e2cbbc69c div.sk-parallel-item {display: flex;flex-direction: column;position: relative;background-color: white;}#sk-50edab94-8d31-44be-b1e5-659e2cbbc69c div.sk-parallel-item:first-child::after {align-self: flex-end;width: 50%;}#sk-50edab94-8d31-44be-b1e5-659e2cbbc69c div.sk-parallel-item:last-child::after {align-self: flex-start;width: 50%;}#sk-50edab94-8d31-44be-b1e5-659e2cbbc69c div.sk-parallel-item:only-child::after {width: 0;}#sk-50edab94-8d31-44be-b1e5-659e2cbbc69c div.sk-dashed-wrapped {border: 1px dashed gray;margin: 0 0.4em 0.5em 0.4em;box-sizing: border-box;padding-bottom: 0.4em;background-color: white;position: relative;}#sk-50edab94-8d31-44be-b1e5-659e2cbbc69c div.sk-label label {font-family: monospace;font-weight: bold;background-color: white;display: inline-block;line-height: 1.2em;}#sk-50edab94-8d31-44be-b1e5-659e2cbbc69c div.sk-label-container {position: relative;z-index: 2;text-align: center;}#sk-50edab94-8d31-44be-b1e5-659e2cbbc69c div.sk-container {/* jupyter's `normalize.less` sets `[hidden] { display: none; }` but bootstrap.min.css set `[hidden] { display: none !important; }` so we also need the `!important` here to be able to override the default hidden behavior on the sphinx rendered scikit-learn.org. See: https://github.com/scikit-learn/scikit-learn/issues/21755 */display: inline-block !important;position: relative;}#sk-50edab94-8d31-44be-b1e5-659e2cbbc69c div.sk-text-repr-fallback {display: none;}</style><div id=\"sk-50edab94-8d31-44be-b1e5-659e2cbbc69c\" class=\"sk-top-container\"><div class=\"sk-text-repr-fallback\"><pre>Pipeline(steps=[(&#x27;trans&#x27;,\n",
              "                 ColumnTransformer(transformers=[(&#x27;cat&#x27;, OneHotEncoder(),\n",
              "                                                  [&#x27;job&#x27;, &#x27;marital&#x27;,\n",
              "                                                   &#x27;education&#x27;, &#x27;default&#x27;,\n",
              "                                                   &#x27;housing&#x27;, &#x27;loan&#x27;, &#x27;contact&#x27;,\n",
              "                                                   &#x27;month&#x27;, &#x27;poutcome&#x27;]),\n",
              "                                                 (&#x27;num&#x27;, MinMaxScaler(),\n",
              "                                                  [&#x27;age&#x27;, &#x27;balance&#x27;, &#x27;day&#x27;,\n",
              "                                                   &#x27;duration&#x27;, &#x27;campaign&#x27;,\n",
              "                                                   &#x27;pdays&#x27;, &#x27;previous&#x27;])])),\n",
              "                (&#x27;mlr&#x27;, LogisticRegression(max_iter=1000))])</pre><b>Please rerun this cell to show the HTML repr or trust the notebook.</b></div><div class=\"sk-container\" hidden><div class=\"sk-item sk-dashed-wrapped\"><div class=\"sk-label-container\"><div class=\"sk-label sk-toggleable\"><input class=\"sk-toggleable__control sk-hidden--visually\" id=\"80ce3d69-d999-42ca-9c7f-f888359ea01b\" type=\"checkbox\" ><label for=\"80ce3d69-d999-42ca-9c7f-f888359ea01b\" class=\"sk-toggleable__label sk-toggleable__label-arrow\">Pipeline</label><div class=\"sk-toggleable__content\"><pre>Pipeline(steps=[(&#x27;trans&#x27;,\n",
              "                 ColumnTransformer(transformers=[(&#x27;cat&#x27;, OneHotEncoder(),\n",
              "                                                  [&#x27;job&#x27;, &#x27;marital&#x27;,\n",
              "                                                   &#x27;education&#x27;, &#x27;default&#x27;,\n",
              "                                                   &#x27;housing&#x27;, &#x27;loan&#x27;, &#x27;contact&#x27;,\n",
              "                                                   &#x27;month&#x27;, &#x27;poutcome&#x27;]),\n",
              "                                                 (&#x27;num&#x27;, MinMaxScaler(),\n",
              "                                                  [&#x27;age&#x27;, &#x27;balance&#x27;, &#x27;day&#x27;,\n",
              "                                                   &#x27;duration&#x27;, &#x27;campaign&#x27;,\n",
              "                                                   &#x27;pdays&#x27;, &#x27;previous&#x27;])])),\n",
              "                (&#x27;mlr&#x27;, LogisticRegression(max_iter=1000))])</pre></div></div></div><div class=\"sk-serial\"><div class=\"sk-item sk-dashed-wrapped\"><div class=\"sk-label-container\"><div class=\"sk-label sk-toggleable\"><input class=\"sk-toggleable__control sk-hidden--visually\" id=\"007d1f2d-6081-4a90-a190-15c97b388ea9\" type=\"checkbox\" ><label for=\"007d1f2d-6081-4a90-a190-15c97b388ea9\" class=\"sk-toggleable__label sk-toggleable__label-arrow\">trans: ColumnTransformer</label><div class=\"sk-toggleable__content\"><pre>ColumnTransformer(transformers=[(&#x27;cat&#x27;, OneHotEncoder(),\n",
              "                                 [&#x27;job&#x27;, &#x27;marital&#x27;, &#x27;education&#x27;, &#x27;default&#x27;,\n",
              "                                  &#x27;housing&#x27;, &#x27;loan&#x27;, &#x27;contact&#x27;, &#x27;month&#x27;,\n",
              "                                  &#x27;poutcome&#x27;]),\n",
              "                                (&#x27;num&#x27;, MinMaxScaler(),\n",
              "                                 [&#x27;age&#x27;, &#x27;balance&#x27;, &#x27;day&#x27;, &#x27;duration&#x27;,\n",
              "                                  &#x27;campaign&#x27;, &#x27;pdays&#x27;, &#x27;previous&#x27;])])</pre></div></div></div><div class=\"sk-parallel\"><div class=\"sk-parallel-item\"><div class=\"sk-item\"><div class=\"sk-label-container\"><div class=\"sk-label sk-toggleable\"><input class=\"sk-toggleable__control sk-hidden--visually\" id=\"1848a5a7-7d4b-4dca-ab0c-16aad88e5704\" type=\"checkbox\" ><label for=\"1848a5a7-7d4b-4dca-ab0c-16aad88e5704\" class=\"sk-toggleable__label sk-toggleable__label-arrow\">cat</label><div class=\"sk-toggleable__content\"><pre>[&#x27;job&#x27;, &#x27;marital&#x27;, &#x27;education&#x27;, &#x27;default&#x27;, &#x27;housing&#x27;, &#x27;loan&#x27;, &#x27;contact&#x27;, &#x27;month&#x27;, &#x27;poutcome&#x27;]</pre></div></div></div><div class=\"sk-serial\"><div class=\"sk-item\"><div class=\"sk-estimator sk-toggleable\"><input class=\"sk-toggleable__control sk-hidden--visually\" id=\"7ec28ef1-f743-4a28-98a4-21669a4b33f1\" type=\"checkbox\" ><label for=\"7ec28ef1-f743-4a28-98a4-21669a4b33f1\" class=\"sk-toggleable__label sk-toggleable__label-arrow\">OneHotEncoder</label><div class=\"sk-toggleable__content\"><pre>OneHotEncoder()</pre></div></div></div></div></div></div><div class=\"sk-parallel-item\"><div class=\"sk-item\"><div class=\"sk-label-container\"><div class=\"sk-label sk-toggleable\"><input class=\"sk-toggleable__control sk-hidden--visually\" id=\"17a259fe-44d8-4e54-a592-673e0e1c39cb\" type=\"checkbox\" ><label for=\"17a259fe-44d8-4e54-a592-673e0e1c39cb\" class=\"sk-toggleable__label sk-toggleable__label-arrow\">num</label><div class=\"sk-toggleable__content\"><pre>[&#x27;age&#x27;, &#x27;balance&#x27;, &#x27;day&#x27;, &#x27;duration&#x27;, &#x27;campaign&#x27;, &#x27;pdays&#x27;, &#x27;previous&#x27;]</pre></div></div></div><div class=\"sk-serial\"><div class=\"sk-item\"><div class=\"sk-estimator sk-toggleable\"><input class=\"sk-toggleable__control sk-hidden--visually\" id=\"40493ff7-0e6f-4ace-bb6c-735ea4b79971\" type=\"checkbox\" ><label for=\"40493ff7-0e6f-4ace-bb6c-735ea4b79971\" class=\"sk-toggleable__label sk-toggleable__label-arrow\">MinMaxScaler</label><div class=\"sk-toggleable__content\"><pre>MinMaxScaler()</pre></div></div></div></div></div></div></div></div><div class=\"sk-item\"><div class=\"sk-estimator sk-toggleable\"><input class=\"sk-toggleable__control sk-hidden--visually\" id=\"4db30965-b5ca-4c94-87e2-52cf9875ed5d\" type=\"checkbox\" ><label for=\"4db30965-b5ca-4c94-87e2-52cf9875ed5d\" class=\"sk-toggleable__label sk-toggleable__label-arrow\">LogisticRegression</label><div class=\"sk-toggleable__content\"><pre>LogisticRegression(max_iter=1000)</pre></div></div></div></div></div></div></div>"
            ]
          },
          "metadata": {},
          "execution_count": 39
        }
      ]
    },
    {
      "cell_type": "markdown",
      "source": [
        "## Evaluating Performance of Logistic Regression"
      ],
      "metadata": {
        "id": "xzMTwWVBsXzM"
      }
    },
    {
      "cell_type": "code",
      "source": [
        "y_pred = pipeline.predict(X_test)"
      ],
      "metadata": {
        "id": "VURV7nCgsD5z"
      },
      "execution_count": 66,
      "outputs": []
    },
    {
      "cell_type": "markdown",
      "source": [
        "Let's plot the confusion matrix."
      ],
      "metadata": {
        "id": "V2gXVf0ctXcI"
      }
    },
    {
      "cell_type": "code",
      "source": [
        "plot_cm(y_test,y_pred)"
      ],
      "metadata": {
        "colab": {
          "base_uri": "https://localhost:8080/",
          "height": 606
        },
        "id": "1ROtKVMtsiUE",
        "outputId": "f6340418-db83-4f69-e7d4-b6b44f977cba"
      },
      "execution_count": 67,
      "outputs": [
        {
          "output_type": "display_data",
          "data": {
            "text/plain": [
              "<Figure size 720x720 with 2 Axes>"
            ],
            "image/png": "[encoded data removed]"
          },
          "metadata": {
            "needs_background": "light"
          }
        }
      ]
    },
    {
      "cell_type": "code",
      "source": [
        "print(precision_score(y_test,y_pred)) \n",
        "print(recall_score(y_test,y_pred))\n",
        "print(f1_score(y_test,y_pred))"
      ],
      "metadata": {
        "colab": {
          "base_uri": "https://localhost:8080/"
        },
        "id": "lcbzaGIzsjmM",
        "outputId": "137c177c-e7c8-41f8-cebd-c04571bc951b"
      },
      "execution_count": 68,
      "outputs": [
        {
          "output_type": "stream",
          "name": "stdout",
          "text": [
            "0.6374269005847953\n",
            "0.316247582205029\n",
            "0.422753716871364\n"
          ]
        }
      ]
    },
    {
      "cell_type": "markdown",
      "source": [
        "This has higher precision than recall, However, neither of them are great. the F1 measure is pretty low. Let's look at the ROC Curve and Area Under the Curve."
      ],
      "metadata": {
        "id": "-TE2YuxBtthU"
      }
    },
    {
      "cell_type": "code",
      "source": [
        "y_pred_proba = pipeline.predict_proba(X_test)[::,1]\n",
        "fpr, tpr, _ = roc_curve(y_test,y_pred_proba)\n",
        "plot_roc_curve(fpr, tpr)\n",
        "print(roc_auc_score(y_test, y_pred_proba))"
      ],
      "metadata": {
        "colab": {
          "base_uri": "https://localhost:8080/",
          "height": 286
        },
        "id": "OcQs9yZoszga",
        "outputId": "0ab08f2f-137f-48aa-f771-9f3e172f4377"
      },
      "execution_count": 69,
      "outputs": [
        {
          "output_type": "stream",
          "name": "stdout",
          "text": [
            "0.8995208002216075\n"
          ]
        },
        {
          "output_type": "display_data",
          "data": {
            "text/plain": [
              "<Figure size 432x288 with 1 Axes>"
            ],
            "image/png": "[encoded data removed]"
          },
          "metadata": {
            "needs_background": "light"
          }
        }
      ]
    },
    {
      "cell_type": "markdown",
      "source": [
        "Let's run the base KNN model again so we can compare."
      ],
      "metadata": {
        "id": "QLYdAEpPu146"
      }
    },
    {
      "cell_type": "code",
      "source": [
        "from sklearn.neighbors import KNeighborsClassifier"
      ],
      "metadata": {
        "id": "RyBxNQxyuOgs"
      },
      "execution_count": 71,
      "outputs": []
    },
    {
      "cell_type": "code",
      "source": [
        "knn_pipeline = Pipeline([\n",
        "                     ('trans', col_transform),\n",
        "                     ('knn', KNeighborsClassifier(n_neighbors=7)),\n",
        "                     ])"
      ],
      "metadata": {
        "id": "CORqw15AtB95"
      },
      "execution_count": 85,
      "outputs": []
    },
    {
      "cell_type": "code",
      "source": [
        "knn_pipeline.fit(X_train, np.ravel(y_train))"
      ],
      "metadata": {
        "colab": {
          "base_uri": "https://localhost:8080/",
          "height": 189
        },
        "id": "Y47TTdM3uPPK",
        "outputId": "47554b32-74af-4f37-8c8e-ad4b8bda77b8"
      },
      "execution_count": 86,
      "outputs": [
        {
          "output_type": "execute_result",
          "data": {
            "text/plain": [
              "Pipeline(steps=[('trans',\n",
              "                 ColumnTransformer(transformers=[('cat', OneHotEncoder(),\n",
              "                                                  ['job', 'marital',\n",
              "                                                   'education', 'default',\n",
              "                                                   'housing', 'loan', 'contact',\n",
              "                                                   'month', 'poutcome']),\n",
              "                                                 ('num', MinMaxScaler(),\n",
              "                                                  ['age', 'balance', 'day',\n",
              "                                                   'duration', 'campaign',\n",
              "                                                   'pdays', 'previous'])])),\n",
              "                ('knn', KNeighborsClassifier(n_neighbors=7))])"
            ],
            "text/html": [
              "<style>#sk-787cace9-8da8-4677-b443-d48d7164dafd {color: black;background-color: white;}#sk-787cace9-8da8-4677-b443-d48d7164dafd pre{padding: 0;}#sk-787cace9-8da8-4677-b443-d48d7164dafd div.sk-toggleable {background-color: white;}#sk-787cace9-8da8-4677-b443-d48d7164dafd label.sk-toggleable__label {cursor: pointer;display: block;width: 100%;margin-bottom: 0;padding: 0.3em;box-sizing: border-box;text-align: center;}#sk-787cace9-8da8-4677-b443-d48d7164dafd label.sk-toggleable__label-arrow:before {content: \"▸\";float: left;margin-right: 0.25em;color: #696969;}#sk-787cace9-8da8-4677-b443-d48d7164dafd label.sk-toggleable__label-arrow:hover:before {color: black;}#sk-787cace9-8da8-4677-b443-d48d7164dafd div.sk-estimator:hover label.sk-toggleable__label-arrow:before {color: black;}#sk-787cace9-8da8-4677-b443-d48d7164dafd div.sk-toggleable__content {max-height: 0;max-width: 0;overflow: hidden;text-align: left;background-color: #f0f8ff;}#sk-787cace9-8da8-4677-b443-d48d7164dafd div.sk-toggleable__content pre {margin: 0.2em;color: black;border-radius: 0.25em;background-color: #f0f8ff;}#sk-787cace9-8da8-4677-b443-d48d7164dafd input.sk-toggleable__control:checked~div.sk-toggleable__content {max-height: 200px;max-width: 100%;overflow: auto;}#sk-787cace9-8da8-4677-b443-d48d7164dafd input.sk-toggleable__control:checked~label.sk-toggleable__label-arrow:before {content: \"▾\";}#sk-787cace9-8da8-4677-b443-d48d7164dafd div.sk-estimator input.sk-toggleable__control:checked~label.sk-toggleable__label {background-color: #d4ebff;}#sk-787cace9-8da8-4677-b443-d48d7164dafd div.sk-label input.sk-toggleable__control:checked~label.sk-toggleable__label {background-color: #d4ebff;}#sk-787cace9-8da8-4677-b443-d48d7164dafd input.sk-hidden--visually {border: 0;clip: rect(1px 1px 1px 1px);clip: rect(1px, 1px, 1px, 1px);height: 1px;margin: -1px;overflow: hidden;padding: 0;position: absolute;width: 1px;}#sk-787cace9-8da8-4677-b443-d48d7164dafd div.sk-estimator {font-family: monospace;background-color: #f0f8ff;border: 1px dotted black;border-radius: 0.25em;box-sizing: border-box;margin-bottom: 0.5em;}#sk-787cace9-8da8-4677-b443-d48d7164dafd div.sk-estimator:hover {background-color: #d4ebff;}#sk-787cace9-8da8-4677-b443-d48d7164dafd div.sk-parallel-item::after {content: \"\";width: 100%;border-bottom: 1px solid gray;flex-grow: 1;}#sk-787cace9-8da8-4677-b443-d48d7164dafd div.sk-label:hover label.sk-toggleable__label {background-color: #d4ebff;}#sk-787cace9-8da8-4677-b443-d48d7164dafd div.sk-serial::before {content: \"\";position: absolute;border-left: 1px solid gray;box-sizing: border-box;top: 2em;bottom: 0;left: 50%;}#sk-787cace9-8da8-4677-b443-d48d7164dafd div.sk-serial {display: flex;flex-direction: column;align-items: center;background-color: white;padding-right: 0.2em;padding-left: 0.2em;}#sk-787cace9-8da8-4677-b443-d48d7164dafd div.sk-item {z-index: 1;}#sk-787cace9-8da8-4677-b443-d48d7164dafd div.sk-parallel {display: flex;align-items: stretch;justify-content: center;background-color: white;}#sk-787cace9-8da8-4677-b443-d48d7164dafd div.sk-parallel::before {content: \"\";position: absolute;border-left: 1px solid gray;box-sizing: border-box;top: 2em;bottom: 0;left: 50%;}#sk-787cace9-8da8-4677-b443-d48d7164dafd div.sk-parallel-item {display: flex;flex-direction: column;position: relative;background-color: white;}#sk-787cace9-8da8-4677-b443-d48d7164dafd div.sk-parallel-item:first-child::after {align-self: flex-end;width: 50%;}#sk-787cace9-8da8-4677-b443-d48d7164dafd div.sk-parallel-item:last-child::after {align-self: flex-start;width: 50%;}#sk-787cace9-8da8-4677-b443-d48d7164dafd div.sk-parallel-item:only-child::after {width: 0;}#sk-787cace9-8da8-4677-b443-d48d7164dafd div.sk-dashed-wrapped {border: 1px dashed gray;margin: 0 0.4em 0.5em 0.4em;box-sizing: border-box;padding-bottom: 0.4em;background-color: white;position: relative;}#sk-787cace9-8da8-4677-b443-d48d7164dafd div.sk-label label {font-family: monospace;font-weight: bold;background-color: white;display: inline-block;line-height: 1.2em;}#sk-787cace9-8da8-4677-b443-d48d7164dafd div.sk-label-container {position: relative;z-index: 2;text-align: center;}#sk-787cace9-8da8-4677-b443-d48d7164dafd div.sk-container {/* jupyter's `normalize.less` sets `[hidden] { display: none; }` but bootstrap.min.css set `[hidden] { display: none !important; }` so we also need the `!important` here to be able to override the default hidden behavior on the sphinx rendered scikit-learn.org. See: https://github.com/scikit-learn/scikit-learn/issues/21755 */display: inline-block !important;position: relative;}#sk-787cace9-8da8-4677-b443-d48d7164dafd div.sk-text-repr-fallback {display: none;}</style><div id=\"sk-787cace9-8da8-4677-b443-d48d7164dafd\" class=\"sk-top-container\"><div class=\"sk-text-repr-fallback\"><pre>Pipeline(steps=[(&#x27;trans&#x27;,\n",
              "                 ColumnTransformer(transformers=[(&#x27;cat&#x27;, OneHotEncoder(),\n",
              "                                                  [&#x27;job&#x27;, &#x27;marital&#x27;,\n",
              "                                                   &#x27;education&#x27;, &#x27;default&#x27;,\n",
              "                                                   &#x27;housing&#x27;, &#x27;loan&#x27;, &#x27;contact&#x27;,\n",
              "                                                   &#x27;month&#x27;, &#x27;poutcome&#x27;]),\n",
              "                                                 (&#x27;num&#x27;, MinMaxScaler(),\n",
              "                                                  [&#x27;age&#x27;, &#x27;balance&#x27;, &#x27;day&#x27;,\n",
              "                                                   &#x27;duration&#x27;, &#x27;campaign&#x27;,\n",
              "                                                   &#x27;pdays&#x27;, &#x27;previous&#x27;])])),\n",
              "                (&#x27;knn&#x27;, KNeighborsClassifier(n_neighbors=7))])</pre><b>Please rerun this cell to show the HTML repr or trust the notebook.</b></div><div class=\"sk-container\" hidden><div class=\"sk-item sk-dashed-wrapped\"><div class=\"sk-label-container\"><div class=\"sk-label sk-toggleable\"><input class=\"sk-toggleable__control sk-hidden--visually\" id=\"85e89795-a48e-474b-ad47-06e09286b3aa\" type=\"checkbox\" ><label for=\"85e89795-a48e-474b-ad47-06e09286b3aa\" class=\"sk-toggleable__label sk-toggleable__label-arrow\">Pipeline</label><div class=\"sk-toggleable__content\"><pre>Pipeline(steps=[(&#x27;trans&#x27;,\n",
              "                 ColumnTransformer(transformers=[(&#x27;cat&#x27;, OneHotEncoder(),\n",
              "                                                  [&#x27;job&#x27;, &#x27;marital&#x27;,\n",
              "                                                   &#x27;education&#x27;, &#x27;default&#x27;,\n",
              "                                                   &#x27;housing&#x27;, &#x27;loan&#x27;, &#x27;contact&#x27;,\n",
              "                                                   &#x27;month&#x27;, &#x27;poutcome&#x27;]),\n",
              "                                                 (&#x27;num&#x27;, MinMaxScaler(),\n",
              "                                                  [&#x27;age&#x27;, &#x27;balance&#x27;, &#x27;day&#x27;,\n",
              "                                                   &#x27;duration&#x27;, &#x27;campaign&#x27;,\n",
              "                                                   &#x27;pdays&#x27;, &#x27;previous&#x27;])])),\n",
              "                (&#x27;knn&#x27;, KNeighborsClassifier(n_neighbors=7))])</pre></div></div></div><div class=\"sk-serial\"><div class=\"sk-item sk-dashed-wrapped\"><div class=\"sk-label-container\"><div class=\"sk-label sk-toggleable\"><input class=\"sk-toggleable__control sk-hidden--visually\" id=\"48423fc2-c57a-4ada-9a08-c2227623ff4b\" type=\"checkbox\" ><label for=\"48423fc2-c57a-4ada-9a08-c2227623ff4b\" class=\"sk-toggleable__label sk-toggleable__label-arrow\">trans: ColumnTransformer</label><div class=\"sk-toggleable__content\"><pre>ColumnTransformer(transformers=[(&#x27;cat&#x27;, OneHotEncoder(),\n",
              "                                 [&#x27;job&#x27;, &#x27;marital&#x27;, &#x27;education&#x27;, &#x27;default&#x27;,\n",
              "                                  &#x27;housing&#x27;, &#x27;loan&#x27;, &#x27;contact&#x27;, &#x27;month&#x27;,\n",
              "                                  &#x27;poutcome&#x27;]),\n",
              "                                (&#x27;num&#x27;, MinMaxScaler(),\n",
              "                                 [&#x27;age&#x27;, &#x27;balance&#x27;, &#x27;day&#x27;, &#x27;duration&#x27;,\n",
              "                                  &#x27;campaign&#x27;, &#x27;pdays&#x27;, &#x27;previous&#x27;])])</pre></div></div></div><div class=\"sk-parallel\"><div class=\"sk-parallel-item\"><div class=\"sk-item\"><div class=\"sk-label-container\"><div class=\"sk-label sk-toggleable\"><input class=\"sk-toggleable__control sk-hidden--visually\" id=\"8707c6b8-4a2a-4a03-ab4d-06ecf771a0d6\" type=\"checkbox\" ><label for=\"8707c6b8-4a2a-4a03-ab4d-06ecf771a0d6\" class=\"sk-toggleable__label sk-toggleable__label-arrow\">cat</label><div class=\"sk-toggleable__content\"><pre>[&#x27;job&#x27;, &#x27;marital&#x27;, &#x27;education&#x27;, &#x27;default&#x27;, &#x27;housing&#x27;, &#x27;loan&#x27;, &#x27;contact&#x27;, &#x27;month&#x27;, &#x27;poutcome&#x27;]</pre></div></div></div><div class=\"sk-serial\"><div class=\"sk-item\"><div class=\"sk-estimator sk-toggleable\"><input class=\"sk-toggleable__control sk-hidden--visually\" id=\"25783eeb-8fff-4733-aaef-c63fe4347563\" type=\"checkbox\" ><label for=\"25783eeb-8fff-4733-aaef-c63fe4347563\" class=\"sk-toggleable__label sk-toggleable__label-arrow\">OneHotEncoder</label><div class=\"sk-toggleable__content\"><pre>OneHotEncoder()</pre></div></div></div></div></div></div><div class=\"sk-parallel-item\"><div class=\"sk-item\"><div class=\"sk-label-container\"><div class=\"sk-label sk-toggleable\"><input class=\"sk-toggleable__control sk-hidden--visually\" id=\"8a8aa530-9544-4024-b5e0-2a2ca5ef8c09\" type=\"checkbox\" ><label for=\"8a8aa530-9544-4024-b5e0-2a2ca5ef8c09\" class=\"sk-toggleable__label sk-toggleable__label-arrow\">num</label><div class=\"sk-toggleable__content\"><pre>[&#x27;age&#x27;, &#x27;balance&#x27;, &#x27;day&#x27;, &#x27;duration&#x27;, &#x27;campaign&#x27;, &#x27;pdays&#x27;, &#x27;previous&#x27;]</pre></div></div></div><div class=\"sk-serial\"><div class=\"sk-item\"><div class=\"sk-estimator sk-toggleable\"><input class=\"sk-toggleable__control sk-hidden--visually\" id=\"88f19a56-90ac-46ee-ac12-01e8f6be509a\" type=\"checkbox\" ><label for=\"88f19a56-90ac-46ee-ac12-01e8f6be509a\" class=\"sk-toggleable__label sk-toggleable__label-arrow\">MinMaxScaler</label><div class=\"sk-toggleable__content\"><pre>MinMaxScaler()</pre></div></div></div></div></div></div></div></div><div class=\"sk-item\"><div class=\"sk-estimator sk-toggleable\"><input class=\"sk-toggleable__control sk-hidden--visually\" id=\"be26a2a1-c2e6-4973-b995-9d6ce06bc6cd\" type=\"checkbox\" ><label for=\"be26a2a1-c2e6-4973-b995-9d6ce06bc6cd\" class=\"sk-toggleable__label sk-toggleable__label-arrow\">KNeighborsClassifier</label><div class=\"sk-toggleable__content\"><pre>KNeighborsClassifier(n_neighbors=7)</pre></div></div></div></div></div></div></div>"
            ]
          },
          "metadata": {},
          "execution_count": 86
        }
      ]
    },
    {
      "cell_type": "code",
      "source": [
        "y_pred = knn_pipeline.predict(X_test)"
      ],
      "metadata": {
        "id": "SCNA4VjzuVH7"
      },
      "execution_count": 87,
      "outputs": []
    },
    {
      "cell_type": "code",
      "source": [
        "plot_cm(y_test,y_pred)"
      ],
      "metadata": {
        "colab": {
          "base_uri": "https://localhost:8080/",
          "height": 606
        },
        "id": "y0qJWKW8u_4k",
        "outputId": "7bded950-d0dc-4304-fb81-9f69faa76efa"
      },
      "execution_count": 88,
      "outputs": [
        {
          "output_type": "display_data",
          "data": {
            "text/plain": [
              "<Figure size 720x720 with 2 Axes>"
            ],
            "image/png": "[encoded data removed]"
          },
          "metadata": {
            "needs_background": "light"
          }
        }
      ]
    },
    {
      "cell_type": "code",
      "source": [
        "print(precision_score(y_test,y_pred)) \n",
        "print(recall_score(y_test,y_pred))\n",
        "print(f1_score(y_test,y_pred))"
      ],
      "metadata": {
        "colab": {
          "base_uri": "https://localhost:8080/"
        },
        "id": "nwxuzXoyuZor",
        "outputId": "fe4b32f3-5480-4200-fd0c-1052d5a579e0"
      },
      "execution_count": 89,
      "outputs": [
        {
          "output_type": "stream",
          "name": "stdout",
          "text": [
            "0.5922330097087378\n",
            "0.23597678916827852\n",
            "0.33748271092669435\n"
          ]
        }
      ]
    },
    {
      "cell_type": "code",
      "source": [
        "y_pred_proba = knn_pipeline.predict_proba(X_test)[::,1]\n",
        "fpr, tpr, _ = roc_curve(y_test,y_pred_proba)\n",
        "plot_roc_curve(fpr, tpr)\n",
        "print(roc_auc_score(y_test, y_pred_proba))"
      ],
      "metadata": {
        "colab": {
          "base_uri": "https://localhost:8080/",
          "height": 286
        },
        "id": "58XqaUPdud7O",
        "outputId": "c509507b-e687-4211-85a7-f72204e26304"
      },
      "execution_count": 90,
      "outputs": [
        {
          "output_type": "stream",
          "name": "stdout",
          "text": [
            "0.7746653728288752\n"
          ]
        },
        {
          "output_type": "display_data",
          "data": {
            "text/plain": [
              "<Figure size 432x288 with 1 Axes>"
            ],
            "image/png": "[encoded data removed]"
          },
          "metadata": {
            "needs_background": "light"
          }
        }
      ]
    },
    {
      "cell_type": "code",
      "source": [
        ""
      ],
      "metadata": {
        "id": "eijXP2AjvLUa"
      },
      "execution_count": null,
      "outputs": []
    }
  ]
}
